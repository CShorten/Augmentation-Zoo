{
  "nbformat": 4,
  "nbformat_minor": 0,
  "metadata": {
    "colab": {
      "name": "CIFAR-10-Examples.ipynb",
      "provenance": [],
      "authorship_tag": "ABX9TyNLZ+iQ0+MAJb9gl4GlutiB",
      "include_colab_link": true
    },
    "kernelspec": {
      "name": "python3",
      "display_name": "Python 3"
    },
    "language_info": {
      "name": "python"
    },
    "accelerator": "GPU"
  },
  "cells": [
    {
      "cell_type": "markdown",
      "metadata": {
        "id": "view-in-github",
        "colab_type": "text"
      },
      "source": [
        "<a href=\"https://colab.research.google.com/github/CShorten/AugmentationLab/blob/main/AugLab-QuickStart/CIFAR_10_Examples.ipynb\" target=\"_parent\"><img src=\"https://colab.research.google.com/assets/colab-badge.svg\" alt=\"Open In Colab\"/></a>"
      ]
    },
    {
      "cell_type": "markdown",
      "metadata": {
        "id": "PIlGrmBHu6T2"
      },
      "source": [
        "<h1> Image Classification </h1>"
      ]
    },
    {
      "cell_type": "code",
      "metadata": {
        "id": "LBlNZexUt9Pk"
      },
      "source": [
        "!git clone https://github.com/CShorten/AugmentationLab.git\n",
        "import os\n",
        "os.chdir(\"AugmentationLab\")\n",
        "from RepresentationAnalysis import distribution_analysis\n",
        "from Evaluation import create_consistency_results_header, evaluate_model_consistency\n",
        "from Models import standard_EfficientNetB7_model, compile_model\n",
        "from ConsistencyLoss import Consistency_Model\n",
        "from Datasets import get_cifar_10"
      ],
      "execution_count": null,
      "outputs": []
    },
    {
      "cell_type": "code",
      "metadata": {
        "id": "IM8IyUYNuE6c"
      },
      "source": [
        "!pip install --upgrade imgaug"
      ],
      "execution_count": null,
      "outputs": []
    },
    {
      "cell_type": "code",
      "metadata": {
        "colab": {
          "base_uri": "https://localhost:8080/"
        },
        "id": "FBOXQovSuHSK",
        "outputId": "0defcb6a-3ce7-44d6-9bfc-926e35fcc509"
      },
      "source": [
        "x_train, y_train, x_test, y_test = get_cifar_10()"
      ],
      "execution_count": 3,
      "outputs": [
        {
          "output_type": "stream",
          "name": "stdout",
          "text": [
            "Downloading data from https://www.cs.toronto.edu/~kriz/cifar-10-python.tar.gz\n",
            "170500096/170498071 [==============================] - 86s 1us/step\n",
            "170508288/170498071 [==============================] - 86s 1us/step\n"
          ]
        }
      ]
    },
    {
      "cell_type": "code",
      "metadata": {
        "id": "MKIQH1KvuJjZ"
      },
      "source": [
        "model = standard_EfficientNetB7_model(x_train)\n",
        "compile_model(model)"
      ],
      "execution_count": 5,
      "outputs": []
    },
    {
      "cell_type": "code",
      "metadata": {
        "id": "bnXkVtViuNfh"
      },
      "source": [
        "from imgaug import augmenters as iaa\n",
        "randaugment = iaa.RandAugment(n=3, m=7)"
      ],
      "execution_count": 6,
      "outputs": []
    },
    {
      "cell_type": "code",
      "metadata": {
        "colab": {
          "base_uri": "https://localhost:8080/"
        },
        "id": "9FHOLkJvuynu",
        "outputId": "c36d20a2-d84a-48d5-c504-d80c06e5fb91"
      },
      "source": [
        "for i in range(2):\n",
        "  x_train = randaugment(images=x_train)\n",
        "  model.fit(x_train, y_train, batch_size=256, epochs=1)"
      ],
      "execution_count": 7,
      "outputs": [
        {
          "output_type": "stream",
          "name": "stdout",
          "text": [
            "196/196 [==============================] - 83s 190ms/step - loss: 2.3131 - accuracy: 0.1173\n",
            "196/196 [==============================] - 36s 184ms/step - loss: 2.2867 - accuracy: 0.1189\n"
          ]
        }
      ]
    },
    {
      "cell_type": "code",
      "metadata": {
        "colab": {
          "base_uri": "https://localhost:8080/"
        },
        "id": "cX_87bkku4bF",
        "outputId": "0aae1e34-ec69-4946-bd3a-c84c5cc05992"
      },
      "source": [
        "model.evaluate(x_test, y_test)"
      ],
      "execution_count": 8,
      "outputs": [
        {
          "output_type": "stream",
          "name": "stdout",
          "text": [
            "313/313 [==============================] - 20s 48ms/step - loss: 2.3032 - accuracy: 0.1000\n"
          ]
        },
        {
          "output_type": "execute_result",
          "data": {
            "text/plain": [
              "[2.3032307624816895, 0.10000000149011612]"
            ]
          },
          "metadata": {},
          "execution_count": 8
        }
      ]
    }
  ]
}